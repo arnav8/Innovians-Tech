{
  "nbformat": 4,
  "nbformat_minor": 0,
  "metadata": {
    "colab": {
      "name": "Untitled21.ipynb",
      "provenance": []
    },
    "kernelspec": {
      "name": "python3",
      "display_name": "Python 3"
    }
  },
  "cells": [
    {
      "cell_type": "code",
      "metadata": {
        "id": "IDxokwKAFtHo",
        "colab_type": "code",
        "colab": {}
      },
      "source": [
        "import pandas as pd\n",
        "adv = pd.read_csv('Advertising.csv',index_col=0)"
      ],
      "execution_count": 0,
      "outputs": []
    },
    {
      "cell_type": "code",
      "metadata": {
        "id": "4B8GqQMnJ_7C",
        "colab_type": "code",
        "colab": {}
      },
      "source": [
        "import numpy as np\n",
        "X = adv[['TV','radio','newspaper']].values\n",
        "Y = adv['sales'].values.reshape(-1,1)"
      ],
      "execution_count": 0,
      "outputs": []
    },
    {
      "cell_type": "code",
      "metadata": {
        "id": "k74mxNmQMT3v",
        "colab_type": "code",
        "colab": {
          "base_uri": "https://localhost:8080/",
          "height": 36
        },
        "outputId": "120eb888-8b77-48cb-a53f-fa111e66e963"
      },
      "source": [
        "X.shape"
      ],
      "execution_count": 56,
      "outputs": [
        {
          "output_type": "execute_result",
          "data": {
            "text/plain": [
              "(200, 3)"
            ]
          },
          "metadata": {
            "tags": []
          },
          "execution_count": 56
        }
      ]
    },
    {
      "cell_type": "code",
      "metadata": {
        "id": "0MJFFNOAKBZP",
        "colab_type": "code",
        "colab": {}
      },
      "source": [
        "#Using Linear regression algorithm calculate the \n",
        "#coefficients of best fit predictive line.\n",
        "from sklearn.linear_model import LinearRegression\n",
        "lmodel = LinearRegression()"
      ],
      "execution_count": 0,
      "outputs": []
    },
    {
      "cell_type": "code",
      "metadata": {
        "id": "nfNsTqdNL0mG",
        "colab_type": "code",
        "colab": {
          "base_uri": "https://localhost:8080/",
          "height": 36
        },
        "outputId": "70b2b78e-721e-4c09-ef3f-2f3a774cdbb8"
      },
      "source": [
        "#Training the model\n",
        "lmodel.fit(X,Y)"
      ],
      "execution_count": 58,
      "outputs": [
        {
          "output_type": "execute_result",
          "data": {
            "text/plain": [
              "LinearRegression(copy_X=True, fit_intercept=True, n_jobs=None, normalize=False)"
            ]
          },
          "metadata": {
            "tags": []
          },
          "execution_count": 58
        }
      ]
    },
    {
      "cell_type": "code",
      "metadata": {
        "id": "XvFShqcJMJlf",
        "colab_type": "code",
        "colab": {
          "base_uri": "https://localhost:8080/",
          "height": 54
        },
        "outputId": "b80b42f0-9bd3-4bda-fdb6-df09d4e0aa25"
      },
      "source": [
        "print(lmodel.intercept_)\n",
        "print(lmodel.coef_)"
      ],
      "execution_count": 59,
      "outputs": [
        {
          "output_type": "stream",
          "text": [
            "[2.93888937]\n",
            "[[ 0.04576465  0.18853002 -0.00103749]]\n"
          ],
          "name": "stdout"
        }
      ]
    },
    {
      "cell_type": "code",
      "metadata": {
        "id": "nJLa508ZM_0t",
        "colab_type": "code",
        "colab": {}
      },
      "source": [
        "#Error Evaluation\n",
        "#MAE - Mean Absolute error\n",
        "#MSE - Mean squared error\n",
        "#RMSE - Root mean squared error\n",
        "\n",
        "#sales value\n",
        "Y\n",
        "#predicted sales value\n",
        "Y_pred = lmodel.predict(X)"
      ],
      "execution_count": 0,
      "outputs": []
    },
    {
      "cell_type": "code",
      "metadata": {
        "id": "IjI3kty6R1Ny",
        "colab_type": "code",
        "colab": {
          "base_uri": "https://localhost:8080/",
          "height": 36
        },
        "outputId": "30d73dbd-baa6-4765-b72c-14fcad6ff27b"
      },
      "source": [
        "lmodel.predict([[50,43,10]])"
      ],
      "execution_count": 62,
      "outputs": [
        {
          "output_type": "execute_result",
          "data": {
            "text/plain": [
              "array([[13.32353744]])"
            ]
          },
          "metadata": {
            "tags": []
          },
          "execution_count": 62
        }
      ]
    },
    {
      "cell_type": "code",
      "metadata": {
        "id": "0RaVyamyR_my",
        "colab_type": "code",
        "colab": {}
      },
      "source": [
        "#0.047*50 + 7.03"
      ],
      "execution_count": 0,
      "outputs": []
    },
    {
      "cell_type": "code",
      "metadata": {
        "id": "Q1C2Pl-WOhKf",
        "colab_type": "code",
        "colab": {
          "base_uri": "https://localhost:8080/",
          "height": 265
        },
        "outputId": "47927b58-d70e-4f61-a5d0-5bb7ea5cd27c"
      },
      "source": [
        "a = np.arange(3,300).reshape(-1,1)\n",
        "b = lmodel.predict(a)\n",
        "import matplotlib.pyplot as plt\n",
        "plt.scatter(X,Y)\n",
        "#plt.plot(a,b,c='r')\n",
        "plt.plot(X,Y_pred,c='red')\n",
        "plt.show()"
      ],
      "execution_count": 29,
      "outputs": [
        {
          "output_type": "display_data",
          "data": {
            "image/png": "[encoded data removed]",
            "text/plain": [
              "<Figure size 432x288 with 1 Axes>"
            ]
          },
          "metadata": {
            "tags": [],
            "needs_background": "light"
          }
        }
      ]
    },
    {
      "cell_type": "code",
      "metadata": {
        "id": "kRbwupQoNcov",
        "colab_type": "code",
        "colab": {
          "base_uri": "https://localhost:8080/",
          "height": 1000
        },
        "outputId": "568097c5-8ed0-4631-e2e6-32245088acce"
      },
      "source": [
        "np.concatenate((Y,Y_pred),axis=1)"
      ],
      "execution_count": 63,
      "outputs": [
        {
          "output_type": "execute_result",
          "data": {
            "text/plain": [
              "array([[22.1       , 20.52397441],\n",
              "       [10.4       , 12.33785482],\n",
              "       [ 9.3       , 12.30767078],\n",
              "       [18.5       , 17.59782951],\n",
              "       [12.9       , 13.18867186],\n",
              "       [ 7.2       , 12.47834763],\n",
              "       [11.8       , 11.72975995],\n",
              "       [13.2       , 12.12295317],\n",
              "       [ 4.8       ,  3.72734086],\n",
              "       [10.6       , 12.55084872],\n",
              "       [ 8.6       ,  7.0322992 ],\n",
              "       [17.4       , 17.28512918],\n",
              "       [ 9.2       , 10.57712073],\n",
              "       [ 9.7       ,  8.82630048],\n",
              "       [19.        , 18.43436638],\n",
              "       [22.4       , 20.81929952],\n",
              "       [12.5       , 12.82365674],\n",
              "       [24.4       , 23.22495716],\n",
              "       [11.3       ,  9.95168206],\n",
              "       [14.6       , 14.16607293],\n",
              "       [18.        , 18.10076728],\n",
              "       [12.5       , 14.7405382 ],\n",
              "       [ 5.6       ,  6.4891503 ],\n",
              "       [15.5       , 16.5459329 ],\n",
              "       [ 9.7       ,  8.14651887],\n",
              "       [12.        , 15.6100386 ],\n",
              "       [15.        , 14.98951429],\n",
              "       [15.9       , 17.05167344],\n",
              "       [18.9       , 19.41053803],\n",
              "       [10.5       ,  9.14402389],\n",
              "       [21.4       , 21.6339338 ],\n",
              "       [11.9       , 11.3460929 ],\n",
              "       [ 9.6       ,  7.63888314],\n",
              "       [17.4       , 18.86426829],\n",
              "       [ 9.5       ,  7.57483051],\n",
              "       [12.8       , 17.00682618],\n",
              "       [25.4       , 23.40590052],\n",
              "       [14.7       , 15.62347779],\n",
              "       [10.1       ,  9.90868103],\n",
              "       [21.5       , 20.44761039],\n",
              "       [16.6       , 16.37766467],\n",
              "       [17.1       , 17.2959832 ],\n",
              "       [20.7       , 21.59580326],\n",
              "       [12.9       , 13.96385684],\n",
              "       [ 8.5       ,  8.88787996],\n",
              "       [14.9       , 15.16152314],\n",
              "       [10.6       ,  8.87338673],\n",
              "       [23.2       , 21.7226299 ],\n",
              "       [14.8       , 16.26362018],\n",
              "       [ 9.7       ,  8.1681656 ],\n",
              "       [11.4       , 12.63121132],\n",
              "       [10.7       ,  9.33981296],\n",
              "       [22.6       , 20.66297563],\n",
              "       [21.2       , 19.94469957],\n",
              "       [20.2       , 20.37443008],\n",
              "       [23.7       , 21.2926106 ],\n",
              "       [ 5.5       ,  8.52771254],\n",
              "       [13.2       , 12.77458802],\n",
              "       [23.8       , 21.89805198],\n",
              "       [18.4       , 18.13348698],\n",
              "       [ 8.1       ,  5.74215558],\n",
              "       [24.2       , 22.89067208],\n",
              "       [15.7       , 16.78426073],\n",
              "       [14.        , 13.21069202],\n",
              "       [18.        , 16.97773556],\n",
              "       [ 9.3       ,  7.84904532],\n",
              "       [ 9.5       ,  9.01603163],\n",
              "       [13.4       , 12.0370073 ],\n",
              "       [18.9       , 18.97657924],\n",
              "       [22.3       , 21.10891244],\n",
              "       [18.3       , 17.77949782],\n",
              "       [12.4       , 10.62693815],\n",
              "       [ 8.8       , 10.36684881],\n",
              "       [11.        ,  9.90298206],\n",
              "       [17.        , 17.32931197],\n",
              "       [ 8.7       , 11.85832174],\n",
              "       [ 6.9       ,  4.47758904],\n",
              "       [14.2       , 13.81190223],\n",
              "       [ 5.3       ,  8.81331353],\n",
              "       [11.        ,  9.67530328],\n",
              "       [11.8       , 11.44592364],\n",
              "       [12.3       , 14.64794093],\n",
              "       [11.3       , 10.17840799],\n",
              "       [13.6       , 14.42184212],\n",
              "       [21.7       , 20.78136464],\n",
              "       [15.2       , 15.18140789],\n",
              "       [12.        , 11.59870739],\n",
              "       [16.        , 15.59378475],\n",
              "       [12.9       , 11.71127101],\n",
              "       [16.7       , 16.92225511],\n",
              "       [11.2       ,  9.99922965],\n",
              "       [ 7.3       ,  4.49631598],\n",
              "       [19.4       , 19.15639616],\n",
              "       [22.2       , 21.22757378],\n",
              "       [11.5       , 10.48212385],\n",
              "       [16.9       , 16.31492112],\n",
              "       [11.7       , 12.63571716],\n",
              "       [15.5       , 15.33707782],\n",
              "       [25.4       , 24.11860723],\n",
              "       [17.2       , 16.94035021],\n",
              "       [11.7       , 13.87595844],\n",
              "       [23.8       , 23.24248685],\n",
              "       [14.8       , 17.64409385],\n",
              "       [14.7       , 14.76221142],\n",
              "       [20.7       , 20.30110878],\n",
              "       [19.2       , 17.93641467],\n",
              "       [ 7.2       ,  6.12602215],\n",
              "       [ 8.7       ,  7.10850249],\n",
              "       [ 5.3       ,  3.58725841],\n",
              "       [19.8       , 19.69293106],\n",
              "       [13.4       , 14.7598741 ],\n",
              "       [21.8       , 21.14027498],\n",
              "       [14.1       , 13.88060985],\n",
              "       [15.9       , 16.40377623],\n",
              "       [14.6       , 15.30509593],\n",
              "       [12.6       , 12.91968895],\n",
              "       [12.2       , 11.97874744],\n",
              "       [ 9.4       ,  6.5707774 ],\n",
              "       [15.9       , 15.56609348],\n",
              "       [ 6.6       ,  6.82006767],\n",
              "       [15.5       , 14.41010605],\n",
              "       [ 7.        ,  7.83807642],\n",
              "       [11.6       , 13.6264571 ],\n",
              "       [15.2       , 15.0827909 ],\n",
              "       [19.7       , 19.45441306],\n",
              "       [10.6       ,  9.12734958],\n",
              "       [ 6.6       , 10.57717411],\n",
              "       [ 8.8       ,  6.599669  ],\n",
              "       [24.7       , 22.25549161],\n",
              "       [ 9.7       ,  7.88410649],\n",
              "       [ 1.6       , 10.4276871 ],\n",
              "       [12.7       , 15.57779819],\n",
              "       [ 5.7       ,  8.44915012],\n",
              "       [19.6       , 19.26692307],\n",
              "       [10.8       , 11.8368039 ],\n",
              "       [11.6       , 14.00141385],\n",
              "       [ 9.5       , 11.45348627],\n",
              "       [20.8       , 20.85125198],\n",
              "       [ 9.6       ,  9.76842795],\n",
              "       [20.7       , 19.67547632],\n",
              "       [10.9       ,  9.48964097],\n",
              "       [19.2       , 18.39902932],\n",
              "       [20.1       , 19.24986927],\n",
              "       [10.4       ,  8.76480262],\n",
              "       [11.4       , 10.09133403],\n",
              "       [10.3       ,  9.70853872],\n",
              "       [13.2       , 15.29422368],\n",
              "       [25.4       , 23.26086103],\n",
              "       [10.9       , 12.26335941],\n",
              "       [10.1       ,  9.8272711 ],\n",
              "       [16.1       , 18.36720534],\n",
              "       [11.6       , 10.0095377 ],\n",
              "       [16.6       , 16.3600003 ],\n",
              "       [19.        , 18.22390132],\n",
              "       [15.6       , 15.50161696],\n",
              "       [ 3.2       ,  5.3075589 ],\n",
              "       [15.3       , 15.38485192],\n",
              "       [10.1       , 10.0143112 ],\n",
              "       [ 7.3       , 10.38419866],\n",
              "       [12.9       , 12.39914823],\n",
              "       [14.4       , 14.21383298],\n",
              "       [13.3       , 13.55914568],\n",
              "       [14.9       , 14.94678206],\n",
              "       [18.        , 17.35163608],\n",
              "       [11.9       , 11.0682946 ],\n",
              "       [11.9       , 14.22372138],\n",
              "       [ 8.        , 10.82439531],\n",
              "       [12.2       , 13.36324677],\n",
              "       [17.1       , 17.1861428 ],\n",
              "       [15.        , 17.9415563 ],\n",
              "       [ 8.4       ,  7.39497997],\n",
              "       [14.5       , 14.35827373],\n",
              "       [ 7.6       ,  7.60769238],\n",
              "       [11.7       , 11.97093887],\n",
              "       [11.5       , 13.74435742],\n",
              "       [27.        , 24.78687031],\n",
              "       [20.2       , 19.9793727 ],\n",
              "       [11.7       , 12.1620464 ],\n",
              "       [11.8       , 16.01099722],\n",
              "       [12.6       , 12.38455495],\n",
              "       [10.5       , 10.5871997 ],\n",
              "       [12.2       , 13.92809918],\n",
              "       [ 8.7       ,  6.55467   ],\n",
              "       [26.2       , 24.13310013],\n",
              "       [17.6       , 18.53852096],\n",
              "       [22.6       , 20.80301059],\n",
              "       [10.3       ,  9.69137313],\n",
              "       [17.3       , 17.07644223],\n",
              "       [15.9       , 18.64430648],\n",
              "       [ 6.7       ,  6.05162411],\n",
              "       [10.8       , 12.4891591 ],\n",
              "       [ 9.9       ,  8.42401933],\n",
              "       [ 5.9       ,  4.46622956],\n",
              "       [19.6       , 18.48695797],\n",
              "       [17.3       , 16.49530044],\n",
              "       [ 7.6       ,  5.37034248],\n",
              "       [ 9.7       ,  8.16531236],\n",
              "       [12.8       , 12.78592082],\n",
              "       [25.5       , 23.76732149],\n",
              "       [13.4       , 15.17319554]])"
            ]
          },
          "metadata": {
            "tags": []
          },
          "execution_count": 63
        }
      ]
    },
    {
      "cell_type": "code",
      "metadata": {
        "id": "vchn1xuBNsuv",
        "colab_type": "code",
        "colab": {
          "base_uri": "https://localhost:8080/",
          "height": 36
        },
        "outputId": "023331c3-fd7f-4bf2-f6ee-dffcbc51281e"
      },
      "source": [
        "#Mean_absolute_error\n",
        "np.abs(Y-Y_pred).mean()"
      ],
      "execution_count": 64,
      "outputs": [
        {
          "output_type": "execute_result",
          "data": {
            "text/plain": [
              "1.252011229687068"
            ]
          },
          "metadata": {
            "tags": []
          },
          "execution_count": 64
        }
      ]
    },
    {
      "cell_type": "code",
      "metadata": {
        "id": "86PmfSn9UWAJ",
        "colab_type": "code",
        "colab": {
          "base_uri": "https://localhost:8080/",
          "height": 36
        },
        "outputId": "1d222ab7-ae35-4f6e-bcd4-dc05d6e09018"
      },
      "source": [
        "#Mean Squared Error\n",
        "((Y-Y_pred)**2).mean()"
      ],
      "execution_count": 52,
      "outputs": [
        {
          "output_type": "execute_result",
          "data": {
            "text/plain": [
              "2.784569900338091"
            ]
          },
          "metadata": {
            "tags": []
          },
          "execution_count": 52
        }
      ]
    },
    {
      "cell_type": "code",
      "metadata": {
        "id": "o-DbGPUYPqr5",
        "colab_type": "code",
        "colab": {
          "base_uri": "https://localhost:8080/",
          "height": 36
        },
        "outputId": "22f7df97-cb61-439e-e2d9-6eccc09779f8"
      },
      "source": [
        "from sklearn import metrics\n",
        "metrics.mean_absolute_error(Y,Y_pred)"
      ],
      "execution_count": 53,
      "outputs": [
        {
          "output_type": "execute_result",
          "data": {
            "text/plain": [
              "1.2537471644234006"
            ]
          },
          "metadata": {
            "tags": []
          },
          "execution_count": 53
        }
      ]
    },
    {
      "cell_type": "code",
      "metadata": {
        "id": "eozA5uDJQRqS",
        "colab_type": "code",
        "colab": {
          "base_uri": "https://localhost:8080/",
          "height": 36
        },
        "outputId": "a28ea47c-a1f9-4aab-c55d-6338a6f6a46a"
      },
      "source": [
        "metrics.mean_squared_error(Y,Y_pred)"
      ],
      "execution_count": 54,
      "outputs": [
        {
          "output_type": "execute_result",
          "data": {
            "text/plain": [
              "2.784569900338091"
            ]
          },
          "metadata": {
            "tags": []
          },
          "execution_count": 54
        }
      ]
    },
    {
      "cell_type": "code",
      "metadata": {
        "id": "vfvJfLqwUod0",
        "colab_type": "code",
        "colab": {
          "base_uri": "https://localhost:8080/",
          "height": 423
        },
        "outputId": "165c5f48-956e-444a-dc83-5351abe06cdd"
      },
      "source": [
        "adv"
      ],
      "execution_count": 38,
      "outputs": [
        {
          "output_type": "execute_result",
          "data": {
            "text/html": [
              "<div>\n",
              "<style scoped>\n",
              "    .dataframe tbody tr th:only-of-type {\n",
              "        vertical-align: middle;\n",
              "    }\n",
              "\n",
              "    .dataframe tbody tr th {\n",
              "        vertical-align: top;\n",
              "    }\n",
              "\n",
              "    .dataframe thead th {\n",
              "        text-align: right;\n",
              "    }\n",
              "</style>\n",
              "<table border=\"1\" class=\"dataframe\">\n",
              "  <thead>\n",
              "    <tr style=\"text-align: right;\">\n",
              "      <th></th>\n",
              "      <th>Unnamed: 0</th>\n",
              "      <th>TV</th>\n",
              "      <th>radio</th>\n",
              "      <th>newspaper</th>\n",
              "      <th>sales</th>\n",
              "    </tr>\n",
              "  </thead>\n",
              "  <tbody>\n",
              "    <tr>\n",
              "      <th>0</th>\n",
              "      <td>1</td>\n",
              "      <td>230.1</td>\n",
              "      <td>37.8</td>\n",
              "      <td>69.2</td>\n",
              "      <td>22.1</td>\n",
              "    </tr>\n",
              "    <tr>\n",
              "      <th>1</th>\n",
              "      <td>2</td>\n",
              "      <td>44.5</td>\n",
              "      <td>39.3</td>\n",
              "      <td>45.1</td>\n",
              "      <td>10.4</td>\n",
              "    </tr>\n",
              "    <tr>\n",
              "      <th>2</th>\n",
              "      <td>3</td>\n",
              "      <td>17.2</td>\n",
              "      <td>45.9</td>\n",
              "      <td>69.3</td>\n",
              "      <td>9.3</td>\n",
              "    </tr>\n",
              "    <tr>\n",
              "      <th>3</th>\n",
              "      <td>4</td>\n",
              "      <td>151.5</td>\n",
              "      <td>41.3</td>\n",
              "      <td>58.5</td>\n",
              "      <td>18.5</td>\n",
              "    </tr>\n",
              "    <tr>\n",
              "      <th>4</th>\n",
              "      <td>5</td>\n",
              "      <td>180.8</td>\n",
              "      <td>10.8</td>\n",
              "      <td>58.4</td>\n",
              "      <td>12.9</td>\n",
              "    </tr>\n",
              "    <tr>\n",
              "      <th>...</th>\n",
              "      <td>...</td>\n",
              "      <td>...</td>\n",
              "      <td>...</td>\n",
              "      <td>...</td>\n",
              "      <td>...</td>\n",
              "    </tr>\n",
              "    <tr>\n",
              "      <th>195</th>\n",
              "      <td>196</td>\n",
              "      <td>38.2</td>\n",
              "      <td>3.7</td>\n",
              "      <td>13.8</td>\n",
              "      <td>7.6</td>\n",
              "    </tr>\n",
              "    <tr>\n",
              "      <th>196</th>\n",
              "      <td>197</td>\n",
              "      <td>94.2</td>\n",
              "      <td>4.9</td>\n",
              "      <td>8.1</td>\n",
              "      <td>9.7</td>\n",
              "    </tr>\n",
              "    <tr>\n",
              "      <th>197</th>\n",
              "      <td>198</td>\n",
              "      <td>177.0</td>\n",
              "      <td>9.3</td>\n",
              "      <td>6.4</td>\n",
              "      <td>12.8</td>\n",
              "    </tr>\n",
              "    <tr>\n",
              "      <th>198</th>\n",
              "      <td>199</td>\n",
              "      <td>283.6</td>\n",
              "      <td>42.0</td>\n",
              "      <td>66.2</td>\n",
              "      <td>25.5</td>\n",
              "    </tr>\n",
              "    <tr>\n",
              "      <th>199</th>\n",
              "      <td>200</td>\n",
              "      <td>232.1</td>\n",
              "      <td>8.6</td>\n",
              "      <td>8.7</td>\n",
              "      <td>13.4</td>\n",
              "    </tr>\n",
              "  </tbody>\n",
              "</table>\n",
              "<p>200 rows × 5 columns</p>\n",
              "</div>"
            ],
            "text/plain": [
              "     Unnamed: 0     TV  radio  newspaper  sales\n",
              "0             1  230.1   37.8       69.2   22.1\n",
              "1             2   44.5   39.3       45.1   10.4\n",
              "2             3   17.2   45.9       69.3    9.3\n",
              "3             4  151.5   41.3       58.5   18.5\n",
              "4             5  180.8   10.8       58.4   12.9\n",
              "..          ...    ...    ...        ...    ...\n",
              "195         196   38.2    3.7       13.8    7.6\n",
              "196         197   94.2    4.9        8.1    9.7\n",
              "197         198  177.0    9.3        6.4   12.8\n",
              "198         199  283.6   42.0       66.2   25.5\n",
              "199         200  232.1    8.6        8.7   13.4\n",
              "\n",
              "[200 rows x 5 columns]"
            ]
          },
          "metadata": {
            "tags": []
          },
          "execution_count": 38
        }
      ]
    },
    {
      "cell_type": "code",
      "metadata": {
        "id": "SEcwLrBxUuYf",
        "colab_type": "code",
        "colab": {}
      },
      "source": [
        "corr = adv.corr()"
      ],
      "execution_count": 0,
      "outputs": []
    },
    {
      "cell_type": "code",
      "metadata": {
        "id": "i82EBkg2VJCr",
        "colab_type": "code",
        "colab": {
          "base_uri": "https://localhost:8080/",
          "height": 174
        },
        "outputId": "0cf97cfb-4771-43a4-98e4-57cc7daef596"
      },
      "source": [
        "corr"
      ],
      "execution_count": 66,
      "outputs": [
        {
          "output_type": "execute_result",
          "data": {
            "text/html": [
              "<div>\n",
              "<style scoped>\n",
              "    .dataframe tbody tr th:only-of-type {\n",
              "        vertical-align: middle;\n",
              "    }\n",
              "\n",
              "    .dataframe tbody tr th {\n",
              "        vertical-align: top;\n",
              "    }\n",
              "\n",
              "    .dataframe thead th {\n",
              "        text-align: right;\n",
              "    }\n",
              "</style>\n",
              "<table border=\"1\" class=\"dataframe\">\n",
              "  <thead>\n",
              "    <tr style=\"text-align: right;\">\n",
              "      <th></th>\n",
              "      <th>TV</th>\n",
              "      <th>radio</th>\n",
              "      <th>newspaper</th>\n",
              "      <th>sales</th>\n",
              "    </tr>\n",
              "  </thead>\n",
              "  <tbody>\n",
              "    <tr>\n",
              "      <th>TV</th>\n",
              "      <td>1.000000</td>\n",
              "      <td>0.054809</td>\n",
              "      <td>0.056648</td>\n",
              "      <td>0.782224</td>\n",
              "    </tr>\n",
              "    <tr>\n",
              "      <th>radio</th>\n",
              "      <td>0.054809</td>\n",
              "      <td>1.000000</td>\n",
              "      <td>0.354104</td>\n",
              "      <td>0.576223</td>\n",
              "    </tr>\n",
              "    <tr>\n",
              "      <th>newspaper</th>\n",
              "      <td>0.056648</td>\n",
              "      <td>0.354104</td>\n",
              "      <td>1.000000</td>\n",
              "      <td>0.228299</td>\n",
              "    </tr>\n",
              "    <tr>\n",
              "      <th>sales</th>\n",
              "      <td>0.782224</td>\n",
              "      <td>0.576223</td>\n",
              "      <td>0.228299</td>\n",
              "      <td>1.000000</td>\n",
              "    </tr>\n",
              "  </tbody>\n",
              "</table>\n",
              "</div>"
            ],
            "text/plain": [
              "                 TV     radio  newspaper     sales\n",
              "TV         1.000000  0.054809   0.056648  0.782224\n",
              "radio      0.054809  1.000000   0.354104  0.576223\n",
              "newspaper  0.056648  0.354104   1.000000  0.228299\n",
              "sales      0.782224  0.576223   0.228299  1.000000"
            ]
          },
          "metadata": {
            "tags": []
          },
          "execution_count": 66
        }
      ]
    },
    {
      "cell_type": "code",
      "metadata": {
        "id": "SrQc1wHZYu78",
        "colab_type": "code",
        "colab": {
          "base_uri": "https://localhost:8080/",
          "height": 110
        },
        "outputId": "3acb3b57-10a0-4f95-bf3c-52723ef41d78"
      },
      "source": [
        "corr['sales'].sort_values(ascending=False)"
      ],
      "execution_count": 84,
      "outputs": [
        {
          "output_type": "execute_result",
          "data": {
            "text/plain": [
              "sales        1.000000\n",
              "newspaper    0.782224\n",
              "radio        0.576223\n",
              "TV           0.228299\n",
              "Name: sales, dtype: float64"
            ]
          },
          "metadata": {
            "tags": []
          },
          "execution_count": 84
        }
      ]
    },
    {
      "cell_type": "code",
      "metadata": {
        "id": "gL6WDIM7Y4NT",
        "colab_type": "code",
        "colab": {}
      },
      "source": [
        "#Error optimization"
      ],
      "execution_count": 0,
      "outputs": []
    },
    {
      "cell_type": "code",
      "metadata": {
        "id": "9AkjSyT-ZKOP",
        "colab_type": "code",
        "colab": {}
      },
      "source": [
        "x1 = 4\n",
        "x2 = 6\n",
        "Y = 35"
      ],
      "execution_count": 0,
      "outputs": []
    },
    {
      "cell_type": "code",
      "metadata": {
        "id": "Lk8s8FnCiFpj",
        "colab_type": "code",
        "colab": {}
      },
      "source": [
        "m1 = 4\n",
        "m2 = 6\n",
        "lr = 0.001"
      ],
      "execution_count": 0,
      "outputs": []
    },
    {
      "cell_type": "code",
      "metadata": {
        "id": "ZArK_0UpiL5U",
        "colab_type": "code",
        "colab": {
          "base_uri": "https://localhost:8080/",
          "height": 36
        },
        "outputId": "4c008187-e9eb-4877-af1d-6773b1408320"
      },
      "source": [
        "Yp = m1*x1 + m2*x2\n",
        "Yp"
      ],
      "execution_count": 130,
      "outputs": [
        {
          "output_type": "execute_result",
          "data": {
            "text/plain": [
              "52"
            ]
          },
          "metadata": {
            "tags": []
          },
          "execution_count": 130
        }
      ]
    },
    {
      "cell_type": "code",
      "metadata": {
        "id": "V06ypmcpiP1K",
        "colab_type": "code",
        "colab": {
          "base_uri": "https://localhost:8080/",
          "height": 36
        },
        "outputId": "77003924-c5f2-4a40-f43a-5864e70f8404"
      },
      "source": [
        "e = (Yp - Y)**2\n",
        "print(e)"
      ],
      "execution_count": 131,
      "outputs": [
        {
          "output_type": "stream",
          "text": [
            "289\n"
          ],
          "name": "stdout"
        }
      ]
    },
    {
      "cell_type": "code",
      "metadata": {
        "id": "I8evGavNiWSP",
        "colab_type": "code",
        "colab": {
          "base_uri": "https://localhost:8080/",
          "height": 944
        },
        "outputId": "0a39e1c9-8deb-420a-855e-bf91b2899a8e"
      },
      "source": [
        "for i in range(50):\n",
        "  Yp = m1*x1 + m2*x2\n",
        "\n",
        "  dem1 = 2*(Y-Yp)*(-x1)\n",
        "  dem2 = 2*(Y-Yp)*(-x2)\n",
        "\n",
        "  m1 = m1 - lr * dem1\n",
        "  m2 = m2 - lr * dem2\n",
        "\n",
        "  e = (Y-Yp)**2\n",
        "  print('m1:',m1,'m2:',m2,'error:',e)"
      ],
      "execution_count": 134,
      "outputs": [
        {
          "output_type": "stream",
          "text": [
            "m1: 3.7421439999999997 m2: 5.613216 error: 232.01382399999997\n",
            "m1: 3.6329610239999997 m2: 5.449441536 error: 186.264410128384\n",
            "m1: 3.5351330775039997 m2: 5.3026996162560005 error: 149.53604868162867\n",
            "m1: 3.447479237443584 m2: 5.1712188561653765 error: 120.04993245839053\n",
            "m1: 3.368941396749451 m2: 5.053412095124178 error: 96.37800657651519\n",
            "m1: 3.298571491487508 m2: 4.947857237231263 error: 77.37380572773168\n",
            "m1: 3.235520056372807 m2: 4.853280084559212 error: 62.11692921911464\n",
            "m1: 3.179025970510035 m2: 4.768538955765054 error: 49.86846464797266\n",
            "m1: 3.1284072695769916 m2: 4.6926109043654884 error: 40.03520131482691\n",
            "m1: 3.0830529135409845 m2: 4.624579370311477 error: 32.14090017876407\n",
            "m1: 3.042415410532722 m2: 4.563623115799084 error: 25.80322891791469\n",
            "m1: 3.006004207837319 m2: 4.5090063117559795 error: 20.715245026964553\n",
            "m1: 2.9733797702222375 m2: 4.460069655333358 error: 16.630530151567587\n",
            "m1: 2.944148274119125 m2: 4.416222411178689 error: 13.351255694160935\n",
            "m1: 2.917956853610736 m2: 4.376935280416105 error: 10.718601691363483\n",
            "m1: 2.8944893408352197 m2: 4.34173401125283 error: 8.605064935453656\n",
            "m1: 2.8734624493883567 m2: 4.310193674082536 error: 6.908283811221203\n",
            "m1: 2.854622354651968 m2: 4.281933531977953 error: 5.546080776189328\n",
            "m1: 2.8377416297681632 m2: 4.256612444652245 error: 4.452482384417239\n",
            "m1: 2.8226165002722743 m2: 4.233924750408412 error: 3.574524097928323\n",
            "m1: 2.8090643842439578 m2: 4.213596576365937 error: 2.8696851382023922\n",
            "m1: 2.7969216882825862 m2: 4.19538253242388 error: 2.3038291439110967\n",
            "m1: 2.7860418327011973 m2: 4.179062749051796 error: 1.8495508979981448\n",
            "m1: 2.776293482100273 m2: 4.164440223150409 error: 1.4848490537272785\n",
            "m1: 2.7675589599618444 m2: 4.151338439942767 error: 1.1920605779171116\n",
            "m1: 2.7597328281258124 m2: 4.139599242188718 error: 0.9570053049211095\n",
            "m1: 2.752720614000728 m2: 4.1290809210010915 error: 0.7682991708755367\n",
            "m1: 2.7464376701446525 m2: 4.119656505216978 error: 0.6168028671656134\n",
            "m1: 2.7408081524496084 m2: 4.111212228674412 error: 0.4951792106064313\n",
            "m1: 2.7357641045948493 m2: 4.103646156892273 error: 0.397537793142208\n",
            "m1: 2.7312446377169852 m2: 4.096866956575476 error: 0.31914970093925205\n",
            "m1: 2.727195195394419 m2: 4.090792793091627 error: 0.25621848630924837\n",
            "m1: 2.7235668950733993 m2: 4.085350342610098 error: 0.2056963003048448\n",
            "m1: 2.7203159379857658 m2: 4.080473906978647 error: 0.16513628102553113\n",
            "m1: 2.717403080435246 m2: 4.076104620652868 error: 0.13257404858779404\n",
            "m1: 2.7147931600699806 m2: 4.072189740104969 error: 0.10643256739106165\n",
            "m1: 2.7124546714227025 m2: 4.068682007134052 error: 0.08544576802262109\n",
            "m1: 2.7103593855947414 m2: 4.065539078392111 error: 0.06859722970084661\n",
            "m1: 2.7084820094928883 m2: 4.062723014239332 error: 0.05507095355951711\n",
            "m1: 2.706799880505628 m2: 4.060199820758441 error: 0.044211842652835974\n",
            "m1: 2.705292692933043 m2: 4.057939039399563 error: 0.035493974671177174\n",
            "m1: 2.7039422528680066 m2: 4.055913379302009 error: 0.028495130769616024\n",
            "m1: 2.7027322585697338 m2: 4.0540983878546 error: 0.022876346903942447\n",
            "m1: 2.7016481036784814 m2: 4.052472155517721 error: 0.018365497316035612\n",
            "m1: 2.7006767008959196 m2: 4.051015051343878 error: 0.014744115093268543\n",
            "m1: 2.699806324002744 m2: 4.049709486004114 error: 0.011836811502718987\n",
            "m1: 2.6990264663064587 m2: 4.0485396994596865 error: 0.00950278166336494\n",
            "m1: 2.698327713810587 m2: 4.047491570715879 error: 0.00762898516385708\n",
            "m1: 2.697701631574286 m2: 4.046552447361427 error: 0.0061246713533069696\n",
            "m1: 2.6971406618905602 m2: 4.045710992835839 error: 0.004916984157176034\n"
          ],
          "name": "stdout"
        }
      ]
    },
    {
      "cell_type": "code",
      "metadata": {
        "id": "jJLZ70gpi0pv",
        "colab_type": "code",
        "colab": {
          "base_uri": "https://localhost:8080/",
          "height": 36
        },
        "outputId": "7c029806-968a-4dcb-8d77-001c1cd23ce1"
      },
      "source": [
        "\n",
        "(Yp - Y)**2"
      ],
      "execution_count": 133,
      "outputs": [
        {
          "output_type": "execute_result",
          "data": {
            "text/plain": [
              "232.01382399999997"
            ]
          },
          "metadata": {
            "tags": []
          },
          "execution_count": 133
        }
      ]
    },
    {
      "cell_type": "code",
      "metadata": {
        "id": "YP5NinwRi6mU",
        "colab_type": "code",
        "colab": {
          "base_uri": "https://localhost:8080/",
          "height": 36
        },
        "outputId": "a9123986-b135-4450-d7e9-74be4dd7c080"
      },
      "source": [
        "0.001 * dem1"
      ],
      "execution_count": 96,
      "outputs": [
        {
          "output_type": "execute_result",
          "data": {
            "text/plain": [
              "0.136"
            ]
          },
          "metadata": {
            "tags": []
          },
          "execution_count": 96
        }
      ]
    },
    {
      "cell_type": "code",
      "metadata": {
        "id": "mLCU4vl5kej1",
        "colab_type": "code",
        "colab": {
          "base_uri": "https://localhost:8080/",
          "height": 36
        },
        "outputId": "b26eb2d6-ca0d-4203-89f1-ba4ef301c3fe"
      },
      "source": [
        "m1"
      ],
      "execution_count": 110,
      "outputs": [
        {
          "output_type": "execute_result",
          "data": {
            "text/plain": [
              "3.447479237443584"
            ]
          },
          "metadata": {
            "tags": []
          },
          "execution_count": 110
        }
      ]
    },
    {
      "cell_type": "code",
      "metadata": {
        "id": "_qROA-mblYZD",
        "colab_type": "code",
        "colab": {
          "base_uri": "https://localhost:8080/",
          "height": 36
        },
        "outputId": "e0c0599f-73d8-48a1-dc2f-25d690dc882d"
      },
      "source": [
        "m1"
      ],
      "execution_count": 116,
      "outputs": [
        {
          "output_type": "execute_result",
          "data": {
            "text/plain": [
              "-132"
            ]
          },
          "metadata": {
            "tags": []
          },
          "execution_count": 116
        }
      ]
    },
    {
      "cell_type": "code",
      "metadata": {
        "id": "9KXohkNqlxbg",
        "colab_type": "code",
        "colab": {
          "base_uri": "https://localhost:8080/",
          "height": 36
        },
        "outputId": "07a30bd2-9e3b-43b6-8bf7-a46a6761c564"
      },
      "source": [
        "dem1"
      ],
      "execution_count": 117,
      "outputs": [
        {
          "output_type": "execute_result",
          "data": {
            "text/plain": [
              "136"
            ]
          },
          "metadata": {
            "tags": []
          },
          "execution_count": 117
        }
      ]
    },
    {
      "cell_type": "code",
      "metadata": {
        "id": "MJTMvVvll5Sv",
        "colab_type": "code",
        "colab": {
          "base_uri": "https://localhost:8080/",
          "height": 36
        },
        "outputId": "c5faf7f2-7f89-4835-ec06-6aba67261dd4"
      },
      "source": [
        "m1 - (0.001 * dem1)"
      ],
      "execution_count": 122,
      "outputs": [
        {
          "output_type": "execute_result",
          "data": {
            "text/plain": [
              "-132.136"
            ]
          },
          "metadata": {
            "tags": []
          },
          "execution_count": 122
        }
      ]
    },
    {
      "cell_type": "code",
      "metadata": {
        "id": "AGsHKV3vmpUk",
        "colab_type": "code",
        "colab": {}
      },
      "source": [
        ""
      ],
      "execution_count": 0,
      "outputs": []
    }
  ]
}