{
  "nbformat": 4,
  "nbformat_minor": 0,
  "metadata": {
    "colab": {
      "name": "Untitled26.ipynb",
      "provenance": [],
      "collapsed_sections": []
    },
    "kernelspec": {
      "name": "python3",
      "display_name": "Python 3"
    }
  },
  "cells": [
    {
      "cell_type": "code",
      "metadata": {
        "id": "TMF0Z61BsaGf",
        "colab_type": "code",
        "outputId": "32af2c0b-ed8f-4664-916b-27af1ce36895",
        "colab": {
          "base_uri": "https://localhost:8080/",
          "height": 35
        }
      },
      "source": [
        "#Unsupervised Learning..\n",
        "#-We will not be given with any labels\n",
        "import numpy as np\n",
        "np.abs(-5)"
      ],
      "execution_count": 0,
      "outputs": [
        {
          "output_type": "execute_result",
          "data": {
            "text/plain": [
              "5"
            ]
          },
          "metadata": {
            "tags": []
          },
          "execution_count": 1
        }
      ]
    },
    {
      "cell_type": "code",
      "metadata": {
        "id": "0Ng8wfa22pZN",
        "colab_type": "code",
        "colab": {}
      },
      "source": [
        "import pandas as pd\n",
        "data=pd.DataFrame({'x':[12,24,28,33,18,29,52,45,24,55,51,61,53,69,72,64,49,58],\n",
        "                  'y':[36,39,30,52,54,46,55,59,63,70,66,63,58,23,14,8,19,7]})"
      ],
      "execution_count": 0,
      "outputs": []
    },
    {
      "cell_type": "code",
      "metadata": {
        "id": "79eUFq3t8fG7",
        "colab_type": "code",
        "colab": {}
      },
      "source": [
        "#Step 1 - Define the centeroid value\n",
        "cent = {1:[np.random.randint(0,75) , np.random.randint(0,75)],\n",
        "        2:[np.random.randint(0,75) , np.random.randint(0,75)],\n",
        "        3:[np.random.randint(0,75) , np.random.randint(0,75)]}"
      ],
      "execution_count": 0,
      "outputs": []
    },
    {
      "cell_type": "code",
      "metadata": {
        "id": "7iotsh5D-Lkm",
        "colab_type": "code",
        "colab": {}
      },
      "source": [
        "#Assignment Stage\n",
        "def assign():\n",
        "  for i in cent.keys():\n",
        "    data[str(i)] = ((data['x'] - cent[i][0])**2 + (data['y'] - cent[i][1])**2)**0.5\n",
        "  data['nearest'] = data.loc[:,'1':'3'].idxmin(axis=1)"
      ],
      "execution_count": 0,
      "outputs": []
    },
    {
      "cell_type": "code",
      "metadata": {
        "id": "xvWcjePWG9Cm",
        "colab_type": "code",
        "colab": {}
      },
      "source": [
        "assign()"
      ],
      "execution_count": 0,
      "outputs": []
    },
    {
      "cell_type": "code",
      "metadata": {
        "id": "D597IJHZHDo1",
        "colab_type": "code",
        "outputId": "0084c7d2-478a-46c8-8206-7734c81f7287",
        "colab": {
          "base_uri": "https://localhost:8080/",
          "height": 614
        }
      },
      "source": [
        "data"
      ],
      "execution_count": 0,
      "outputs": [
        {
          "output_type": "execute_result",
          "data": {
            "text/html": [
              "<div>\n",
              "<style scoped>\n",
              "    .dataframe tbody tr th:only-of-type {\n",
              "        vertical-align: middle;\n",
              "    }\n",
              "\n",
              "    .dataframe tbody tr th {\n",
              "        vertical-align: top;\n",
              "    }\n",
              "\n",
              "    .dataframe thead th {\n",
              "        text-align: right;\n",
              "    }\n",
              "</style>\n",
              "<table border=\"1\" class=\"dataframe\">\n",
              "  <thead>\n",
              "    <tr style=\"text-align: right;\">\n",
              "      <th></th>\n",
              "      <th>x</th>\n",
              "      <th>y</th>\n",
              "      <th>1</th>\n",
              "      <th>2</th>\n",
              "      <th>3</th>\n",
              "      <th>nearest</th>\n",
              "    </tr>\n",
              "  </thead>\n",
              "  <tbody>\n",
              "    <tr>\n",
              "      <th>0</th>\n",
              "      <td>12</td>\n",
              "      <td>36</td>\n",
              "      <td>27.586228</td>\n",
              "      <td>18.384776</td>\n",
              "      <td>23.021729</td>\n",
              "      <td>2</td>\n",
              "    </tr>\n",
              "    <tr>\n",
              "      <th>1</th>\n",
              "      <td>24</td>\n",
              "      <td>39</td>\n",
              "      <td>18.384776</td>\n",
              "      <td>14.866069</td>\n",
              "      <td>17.464249</td>\n",
              "      <td>2</td>\n",
              "    </tr>\n",
              "    <tr>\n",
              "      <th>2</th>\n",
              "      <td>28</td>\n",
              "      <td>30</td>\n",
              "      <td>26.172505</td>\n",
              "      <td>24.698178</td>\n",
              "      <td>7.615773</td>\n",
              "      <td>3</td>\n",
              "    </tr>\n",
              "    <tr>\n",
              "      <th>3</th>\n",
              "      <td>33</td>\n",
              "      <td>52</td>\n",
              "      <td>4.472136</td>\n",
              "      <td>14.035669</td>\n",
              "      <td>29.068884</td>\n",
              "      <td>1</td>\n",
              "    </tr>\n",
              "    <tr>\n",
              "      <th>4</th>\n",
              "      <td>18</td>\n",
              "      <td>54</td>\n",
              "      <td>13.152946</td>\n",
              "      <td>1.414214</td>\n",
              "      <td>33.615473</td>\n",
              "      <td>2</td>\n",
              "    </tr>\n",
              "    <tr>\n",
              "      <th>5</th>\n",
              "      <td>29</td>\n",
              "      <td>46</td>\n",
              "      <td>10.198039</td>\n",
              "      <td>12.206556</td>\n",
              "      <td>23.086793</td>\n",
              "      <td>1</td>\n",
              "    </tr>\n",
              "    <tr>\n",
              "      <th>6</th>\n",
              "      <td>52</td>\n",
              "      <td>55</td>\n",
              "      <td>21.023796</td>\n",
              "      <td>33.060551</td>\n",
              "      <td>38.275318</td>\n",
              "      <td>1</td>\n",
              "    </tr>\n",
              "    <tr>\n",
              "      <th>7</th>\n",
              "      <td>45</td>\n",
              "      <td>59</td>\n",
              "      <td>14.317821</td>\n",
              "      <td>26.683328</td>\n",
              "      <td>38.626416</td>\n",
              "      <td>1</td>\n",
              "    </tr>\n",
              "    <tr>\n",
              "      <th>8</th>\n",
              "      <td>24</td>\n",
              "      <td>63</td>\n",
              "      <td>9.899495</td>\n",
              "      <td>11.180340</td>\n",
              "      <td>40.607881</td>\n",
              "      <td>1</td>\n",
              "    </tr>\n",
              "    <tr>\n",
              "      <th>9</th>\n",
              "      <td>55</td>\n",
              "      <td>70</td>\n",
              "      <td>27.784888</td>\n",
              "      <td>39.812058</td>\n",
              "      <td>52.773099</td>\n",
              "      <td>1</td>\n",
              "    </tr>\n",
              "    <tr>\n",
              "      <th>10</th>\n",
              "      <td>51</td>\n",
              "      <td>66</td>\n",
              "      <td>22.360680</td>\n",
              "      <td>34.539832</td>\n",
              "      <td>47.423623</td>\n",
              "      <td>1</td>\n",
              "    </tr>\n",
              "    <tr>\n",
              "      <th>11</th>\n",
              "      <td>61</td>\n",
              "      <td>63</td>\n",
              "      <td>30.805844</td>\n",
              "      <td>43.174066</td>\n",
              "      <td>50.000000</td>\n",
              "      <td>1</td>\n",
              "    </tr>\n",
              "    <tr>\n",
              "      <th>12</th>\n",
              "      <td>53</td>\n",
              "      <td>58</td>\n",
              "      <td>22.090722</td>\n",
              "      <td>34.365681</td>\n",
              "      <td>41.340053</td>\n",
              "      <td>1</td>\n",
              "    </tr>\n",
              "    <tr>\n",
              "      <th>13</th>\n",
              "      <td>69</td>\n",
              "      <td>23</td>\n",
              "      <td>50.328918</td>\n",
              "      <td>58.309519</td>\n",
              "      <td>38.000000</td>\n",
              "      <td>3</td>\n",
              "    </tr>\n",
              "    <tr>\n",
              "      <th>14</th>\n",
              "      <td>72</td>\n",
              "      <td>14</td>\n",
              "      <td>58.694122</td>\n",
              "      <td>65.802736</td>\n",
              "      <td>41.976184</td>\n",
              "      <td>3</td>\n",
              "    </tr>\n",
              "    <tr>\n",
              "      <th>15</th>\n",
              "      <td>64</td>\n",
              "      <td>8</td>\n",
              "      <td>58.249464</td>\n",
              "      <td>63.639610</td>\n",
              "      <td>36.249138</td>\n",
              "      <td>3</td>\n",
              "    </tr>\n",
              "    <tr>\n",
              "      <th>16</th>\n",
              "      <td>49</td>\n",
              "      <td>19</td>\n",
              "      <td>41.146081</td>\n",
              "      <td>45.343136</td>\n",
              "      <td>18.439089</td>\n",
              "      <td>3</td>\n",
              "    </tr>\n",
              "    <tr>\n",
              "      <th>17</th>\n",
              "      <td>58</td>\n",
              "      <td>7</td>\n",
              "      <td>55.946403</td>\n",
              "      <td>60.307545</td>\n",
              "      <td>31.384710</td>\n",
              "      <td>3</td>\n",
              "    </tr>\n",
              "  </tbody>\n",
              "</table>\n",
              "</div>"
            ],
            "text/plain": [
              "     x   y          1          2          3 nearest\n",
              "0   12  36  27.586228  18.384776  23.021729       2\n",
              "1   24  39  18.384776  14.866069  17.464249       2\n",
              "2   28  30  26.172505  24.698178   7.615773       3\n",
              "3   33  52   4.472136  14.035669  29.068884       1\n",
              "4   18  54  13.152946   1.414214  33.615473       2\n",
              "5   29  46  10.198039  12.206556  23.086793       1\n",
              "6   52  55  21.023796  33.060551  38.275318       1\n",
              "7   45  59  14.317821  26.683328  38.626416       1\n",
              "8   24  63   9.899495  11.180340  40.607881       1\n",
              "9   55  70  27.784888  39.812058  52.773099       1\n",
              "10  51  66  22.360680  34.539832  47.423623       1\n",
              "11  61  63  30.805844  43.174066  50.000000       1\n",
              "12  53  58  22.090722  34.365681  41.340053       1\n",
              "13  69  23  50.328918  58.309519  38.000000       3\n",
              "14  72  14  58.694122  65.802736  41.976184       3\n",
              "15  64   8  58.249464  63.639610  36.249138       3\n",
              "16  49  19  41.146081  45.343136  18.439089       3\n",
              "17  58   7  55.946403  60.307545  31.384710       3"
            ]
          },
          "metadata": {
            "tags": []
          },
          "execution_count": 120
        }
      ]
    },
    {
      "cell_type": "code",
      "metadata": {
        "id": "2qKliVcQALUc",
        "colab_type": "code",
        "colab": {}
      },
      "source": [
        "#Update stage\n",
        "def update():\n",
        "  for i in cent.keys():\n",
        "    cent[i][0] = data[data['nearest'] == str(i)]['x'].mean()\n",
        "    cent[i][1] = data[data['nearest'] == str(i)]['y'].mean()"
      ],
      "execution_count": 0,
      "outputs": []
    },
    {
      "cell_type": "code",
      "metadata": {
        "id": "jaG5uwb1DEF5",
        "colab_type": "code",
        "outputId": "baa80456-31e3-44ac-fa99-14f860b3d12c",
        "colab": {
          "base_uri": "https://localhost:8080/",
          "height": 72
        }
      },
      "source": [
        "cent"
      ],
      "execution_count": 0,
      "outputs": [
        {
          "output_type": "execute_result",
          "data": {
            "text/plain": [
              "{1: [24.0, 45.714285714285715],\n",
              " 2: [62.4, 14.2],\n",
              " 3: [52.833333333333336, 61.833333333333336]}"
            ]
          },
          "metadata": {
            "tags": []
          },
          "execution_count": 87
        }
      ]
    },
    {
      "cell_type": "code",
      "metadata": {
        "id": "FbJZNpKMDYyG",
        "colab_type": "code",
        "colab": {}
      },
      "source": [
        "#Assignment 2\n",
        "for i in cent.keys():\n",
        "  data[str(i)] = ((data['x'] - cent[i][0])**2 + (data['y'] - cent[i][1])**2)**0.5\n",
        "data['nearest'] = data.loc[:,'1':'3'].idxmin(axis=1)"
      ],
      "execution_count": 0,
      "outputs": []
    },
    {
      "cell_type": "code",
      "metadata": {
        "id": "XpGnjCDRFQxL",
        "colab_type": "code",
        "colab": {}
      },
      "source": [
        "for i in range(10):\n",
        "  update()\n",
        "  assign()"
      ],
      "execution_count": 0,
      "outputs": []
    },
    {
      "cell_type": "code",
      "metadata": {
        "id": "vaVPwV0r7HsE",
        "colab_type": "code",
        "outputId": "374071b6-aa16-4da6-c7a2-4146bbba3625",
        "colab": {
          "base_uri": "https://localhost:8080/",
          "height": 265
        }
      },
      "source": [
        "import matplotlib.pyplot as plt\n",
        "plt.scatter(data['x'],data['y'],c=data['nearest'].astype(int))\n",
        "#for i in cent.keys():\n",
        "#  plt.scatter(cent[i][0],cent[i][1])\n",
        "plt.show()"
      ],
      "execution_count": 0,
      "outputs": [
        {
          "output_type": "display_data",
          "data": {
            "image/png": "[encoded data removed]",
            "text/plain": [
              "<Figure size 432x288 with 1 Axes>"
            ]
          },
          "metadata": {
            "tags": [],
            "needs_background": "light"
          }
        }
      ]
    },
    {
      "cell_type": "code",
      "metadata": {
        "id": "V-GGEyji7P2d",
        "colab_type": "code",
        "colab": {}
      },
      "source": [
        "import pandas as pd\n",
        "data=pd.DataFrame({'x':[12,24,28,33,18,29,52,45,24,55,51,61,53,69,72,64,49,58],\n",
        "                  'y':[36,39,30,52,54,46,55,59,63,70,66,63,58,23,14,8,19,7]})"
      ],
      "execution_count": 0,
      "outputs": []
    },
    {
      "cell_type": "code",
      "metadata": {
        "id": "ftis9gEnFlE6",
        "colab_type": "code",
        "colab": {}
      },
      "source": [
        "#Step 1 - Define the centeroid value\n",
        "cent = {1:[np.random.randint(0,75) , np.random.randint(0,75)],\n",
        "        2:[np.random.randint(0,75) , np.random.randint(0,75)],\n",
        "        3:[np.random.randint(0,75) , np.random.randint(0,75)]}"
      ],
      "execution_count": 0,
      "outputs": []
    },
    {
      "cell_type": "code",
      "metadata": {
        "id": "uZypNJ4OFmQV",
        "colab_type": "code",
        "colab": {}
      },
      "source": [
        "assign()\n",
        "for i in range(10):\n",
        "  update()\n",
        "  assign()"
      ],
      "execution_count": 0,
      "outputs": []
    },
    {
      "cell_type": "code",
      "metadata": {
        "id": "TosC8g0xFp_F",
        "colab_type": "code",
        "outputId": "a3987002-f1ca-4d14-f1b2-fe74be2a8e94",
        "colab": {
          "base_uri": "https://localhost:8080/",
          "height": 265
        }
      },
      "source": [
        "import matplotlib.pyplot as plt\n",
        "plt.scatter(data['x'],data['y'],c=data['nearest'].astype(int))\n",
        "#for i in cent.keys():\n",
        "#  plt.scatter(cent[i][0],cent[i][1])\n",
        "plt.show()"
      ],
      "execution_count": 0,
      "outputs": [
        {
          "output_type": "display_data",
          "data": {
            "image/png": "[encoded data removed]",
            "text/plain": [
              "<Figure size 432x288 with 1 Axes>"
            ]
          },
          "metadata": {
            "tags": [],
            "needs_background": "light"
          }
        }
      ]
    },
    {
      "cell_type": "code",
      "metadata": {
        "id": "aSa1GBd8GDAr",
        "colab_type": "code",
        "outputId": "4386479e-3891-41a3-fae3-a8379183e922",
        "colab": {
          "base_uri": "https://localhost:8080/",
          "height": 614
        }
      },
      "source": [
        "data"
      ],
      "execution_count": 0,
      "outputs": [
        {
          "output_type": "execute_result",
          "data": {
            "text/html": [
              "<div>\n",
              "<style scoped>\n",
              "    .dataframe tbody tr th:only-of-type {\n",
              "        vertical-align: middle;\n",
              "    }\n",
              "\n",
              "    .dataframe tbody tr th {\n",
              "        vertical-align: top;\n",
              "    }\n",
              "\n",
              "    .dataframe thead th {\n",
              "        text-align: right;\n",
              "    }\n",
              "</style>\n",
              "<table border=\"1\" class=\"dataframe\">\n",
              "  <thead>\n",
              "    <tr style=\"text-align: right;\">\n",
              "      <th></th>\n",
              "      <th>x</th>\n",
              "      <th>y</th>\n",
              "      <th>1</th>\n",
              "      <th>2</th>\n",
              "      <th>3</th>\n",
              "      <th>nearest</th>\n",
              "    </tr>\n",
              "  </thead>\n",
              "  <tbody>\n",
              "    <tr>\n",
              "      <th>0</th>\n",
              "      <td>12</td>\n",
              "      <td>36</td>\n",
              "      <td>48.318963</td>\n",
              "      <td>15.439150</td>\n",
              "      <td>54.912658</td>\n",
              "      <td>2</td>\n",
              "    </tr>\n",
              "    <tr>\n",
              "      <th>1</th>\n",
              "      <td>24</td>\n",
              "      <td>39</td>\n",
              "      <td>36.779372</td>\n",
              "      <td>6.714286</td>\n",
              "      <td>45.712143</td>\n",
              "      <td>2</td>\n",
              "    </tr>\n",
              "    <tr>\n",
              "      <th>2</th>\n",
              "      <td>28</td>\n",
              "      <td>30</td>\n",
              "      <td>40.373946</td>\n",
              "      <td>16.215387</td>\n",
              "      <td>37.854986</td>\n",
              "      <td>2</td>\n",
              "    </tr>\n",
              "    <tr>\n",
              "      <th>3</th>\n",
              "      <td>33</td>\n",
              "      <td>52</td>\n",
              "      <td>22.137198</td>\n",
              "      <td>10.977714</td>\n",
              "      <td>47.887368</td>\n",
              "      <td>2</td>\n",
              "    </tr>\n",
              "    <tr>\n",
              "      <th>4</th>\n",
              "      <td>18</td>\n",
              "      <td>54</td>\n",
              "      <td>35.703252</td>\n",
              "      <td>10.230008</td>\n",
              "      <td>59.627175</td>\n",
              "      <td>2</td>\n",
              "    </tr>\n",
              "    <tr>\n",
              "      <th>5</th>\n",
              "      <td>29</td>\n",
              "      <td>46</td>\n",
              "      <td>28.613322</td>\n",
              "      <td>5.008157</td>\n",
              "      <td>46.117242</td>\n",
              "      <td>2</td>\n",
              "    </tr>\n",
              "    <tr>\n",
              "      <th>6</th>\n",
              "      <td>52</td>\n",
              "      <td>55</td>\n",
              "      <td>6.883959</td>\n",
              "      <td>29.499568</td>\n",
              "      <td>42.104632</td>\n",
              "      <td>1</td>\n",
              "    </tr>\n",
              "    <tr>\n",
              "      <th>7</th>\n",
              "      <td>45</td>\n",
              "      <td>59</td>\n",
              "      <td>8.329999</td>\n",
              "      <td>24.849753</td>\n",
              "      <td>48.060379</td>\n",
              "      <td>1</td>\n",
              "    </tr>\n",
              "    <tr>\n",
              "      <th>8</th>\n",
              "      <td>24</td>\n",
              "      <td>63</td>\n",
              "      <td>28.856927</td>\n",
              "      <td>17.285714</td>\n",
              "      <td>62.096699</td>\n",
              "      <td>2</td>\n",
              "    </tr>\n",
              "    <tr>\n",
              "      <th>9</th>\n",
              "      <td>55</td>\n",
              "      <td>70</td>\n",
              "      <td>8.449195</td>\n",
              "      <td>39.380146</td>\n",
              "      <td>56.288542</td>\n",
              "      <td>1</td>\n",
              "    </tr>\n",
              "    <tr>\n",
              "      <th>10</th>\n",
              "      <td>51</td>\n",
              "      <td>66</td>\n",
              "      <td>4.552167</td>\n",
              "      <td>33.771441</td>\n",
              "      <td>53.039608</td>\n",
              "      <td>1</td>\n",
              "    </tr>\n",
              "    <tr>\n",
              "      <th>11</th>\n",
              "      <td>61</td>\n",
              "      <td>63</td>\n",
              "      <td>8.249579</td>\n",
              "      <td>40.838657</td>\n",
              "      <td>48.820078</td>\n",
              "      <td>1</td>\n",
              "    </tr>\n",
              "    <tr>\n",
              "      <th>12</th>\n",
              "      <td>53</td>\n",
              "      <td>58</td>\n",
              "      <td>3.836955</td>\n",
              "      <td>31.495060</td>\n",
              "      <td>44.797321</td>\n",
              "      <td>1</td>\n",
              "    </tr>\n",
              "    <tr>\n",
              "      <th>13</th>\n",
              "      <td>69</td>\n",
              "      <td>23</td>\n",
              "      <td>42.064105</td>\n",
              "      <td>50.407725</td>\n",
              "      <td>11.000000</td>\n",
              "      <td>3</td>\n",
              "    </tr>\n",
              "    <tr>\n",
              "      <th>14</th>\n",
              "      <td>72</td>\n",
              "      <td>14</td>\n",
              "      <td>51.530466</td>\n",
              "      <td>57.530826</td>\n",
              "      <td>9.602083</td>\n",
              "      <td>3</td>\n",
              "    </tr>\n",
              "    <tr>\n",
              "      <th>15</th>\n",
              "      <td>64</td>\n",
              "      <td>8</td>\n",
              "      <td>54.979289</td>\n",
              "      <td>54.976062</td>\n",
              "      <td>6.403124</td>\n",
              "      <td>3</td>\n",
              "    </tr>\n",
              "    <tr>\n",
              "      <th>16</th>\n",
              "      <td>49</td>\n",
              "      <td>19</td>\n",
              "      <td>43.004522</td>\n",
              "      <td>36.587608</td>\n",
              "      <td>14.233763</td>\n",
              "      <td>3</td>\n",
              "    </tr>\n",
              "    <tr>\n",
              "      <th>17</th>\n",
              "      <td>58</td>\n",
              "      <td>7</td>\n",
              "      <td>55.076210</td>\n",
              "      <td>51.524712</td>\n",
              "      <td>8.438009</td>\n",
              "      <td>3</td>\n",
              "    </tr>\n",
              "  </tbody>\n",
              "</table>\n",
              "</div>"
            ],
            "text/plain": [
              "     x   y          1          2          3 nearest\n",
              "0   12  36  48.318963  15.439150  54.912658       2\n",
              "1   24  39  36.779372   6.714286  45.712143       2\n",
              "2   28  30  40.373946  16.215387  37.854986       2\n",
              "3   33  52  22.137198  10.977714  47.887368       2\n",
              "4   18  54  35.703252  10.230008  59.627175       2\n",
              "5   29  46  28.613322   5.008157  46.117242       2\n",
              "6   52  55   6.883959  29.499568  42.104632       1\n",
              "7   45  59   8.329999  24.849753  48.060379       1\n",
              "8   24  63  28.856927  17.285714  62.096699       2\n",
              "9   55  70   8.449195  39.380146  56.288542       1\n",
              "10  51  66   4.552167  33.771441  53.039608       1\n",
              "11  61  63   8.249579  40.838657  48.820078       1\n",
              "12  53  58   3.836955  31.495060  44.797321       1\n",
              "13  69  23  42.064105  50.407725  11.000000       3\n",
              "14  72  14  51.530466  57.530826   9.602083       3\n",
              "15  64   8  54.979289  54.976062   6.403124       3\n",
              "16  49  19  43.004522  36.587608  14.233763       3\n",
              "17  58   7  55.076210  51.524712   8.438009       3"
            ]
          },
          "metadata": {
            "tags": []
          },
          "execution_count": 96
        }
      ]
    },
    {
      "cell_type": "code",
      "metadata": {
        "id": "Gpva-0HgGHXD",
        "colab_type": "code",
        "colab": {}
      },
      "source": [
        "import pandas as pd\n",
        "ds=pd.DataFrame({'x':[12,24,28,33,18,29,52,45,24,55,51,61,53,69,72,64,49,58],\n",
        "                  'y':[36,39,30,52,54,46,55,59,63,70,66,63,58,23,14,8,19,7]})"
      ],
      "execution_count": 0,
      "outputs": []
    },
    {
      "cell_type": "code",
      "metadata": {
        "id": "6LCGa90bLvk3",
        "colab_type": "code",
        "colab": {}
      },
      "source": [
        "from sklearn.cluster import KMeans"
      ],
      "execution_count": 0,
      "outputs": []
    },
    {
      "cell_type": "code",
      "metadata": {
        "id": "32xGxQ4mL4Tm",
        "colab_type": "code",
        "colab": {}
      },
      "source": [
        "kmeans = KMeans(n_clusters=3)"
      ],
      "execution_count": 0,
      "outputs": []
    },
    {
      "cell_type": "code",
      "metadata": {
        "id": "Q8MIbiOrL8nn",
        "colab_type": "code",
        "outputId": "62b3a0cb-9a51-49b5-908b-d0b8971d2689",
        "colab": {
          "base_uri": "https://localhost:8080/",
          "height": 72
        }
      },
      "source": [
        "kmeans.fit(ds)"
      ],
      "execution_count": 0,
      "outputs": [
        {
          "output_type": "execute_result",
          "data": {
            "text/plain": [
              "KMeans(algorithm='auto', copy_x=True, init='k-means++', max_iter=300,\n",
              "       n_clusters=3, n_init=10, n_jobs=None, precompute_distances='auto',\n",
              "       random_state=None, tol=0.0001, verbose=0)"
            ]
          },
          "metadata": {
            "tags": []
          },
          "execution_count": 126
        }
      ]
    },
    {
      "cell_type": "code",
      "metadata": {
        "id": "dTDMMjz2MD-G",
        "colab_type": "code",
        "colab": {}
      },
      "source": [
        "l = kmeans.predict(ds)"
      ],
      "execution_count": 0,
      "outputs": []
    },
    {
      "cell_type": "code",
      "metadata": {
        "id": "T9DceWI_MMA-",
        "colab_type": "code",
        "colab": {}
      },
      "source": [
        "ds['label'] = l"
      ],
      "execution_count": 0,
      "outputs": []
    },
    {
      "cell_type": "code",
      "metadata": {
        "id": "6bcvyVgnMNLa",
        "colab_type": "code",
        "outputId": "e3de7097-4b13-462e-e465-0ac09d1fbed0",
        "colab": {
          "base_uri": "https://localhost:8080/",
          "height": 614
        }
      },
      "source": [
        "ds"
      ],
      "execution_count": 0,
      "outputs": [
        {
          "output_type": "execute_result",
          "data": {
            "text/html": [
              "<div>\n",
              "<style scoped>\n",
              "    .dataframe tbody tr th:only-of-type {\n",
              "        vertical-align: middle;\n",
              "    }\n",
              "\n",
              "    .dataframe tbody tr th {\n",
              "        vertical-align: top;\n",
              "    }\n",
              "\n",
              "    .dataframe thead th {\n",
              "        text-align: right;\n",
              "    }\n",
              "</style>\n",
              "<table border=\"1\" class=\"dataframe\">\n",
              "  <thead>\n",
              "    <tr style=\"text-align: right;\">\n",
              "      <th></th>\n",
              "      <th>x</th>\n",
              "      <th>y</th>\n",
              "    </tr>\n",
              "  </thead>\n",
              "  <tbody>\n",
              "    <tr>\n",
              "      <th>0</th>\n",
              "      <td>12</td>\n",
              "      <td>36</td>\n",
              "    </tr>\n",
              "    <tr>\n",
              "      <th>1</th>\n",
              "      <td>24</td>\n",
              "      <td>39</td>\n",
              "    </tr>\n",
              "    <tr>\n",
              "      <th>2</th>\n",
              "      <td>28</td>\n",
              "      <td>30</td>\n",
              "    </tr>\n",
              "    <tr>\n",
              "      <th>3</th>\n",
              "      <td>33</td>\n",
              "      <td>52</td>\n",
              "    </tr>\n",
              "    <tr>\n",
              "      <th>4</th>\n",
              "      <td>18</td>\n",
              "      <td>54</td>\n",
              "    </tr>\n",
              "    <tr>\n",
              "      <th>5</th>\n",
              "      <td>29</td>\n",
              "      <td>46</td>\n",
              "    </tr>\n",
              "    <tr>\n",
              "      <th>6</th>\n",
              "      <td>52</td>\n",
              "      <td>55</td>\n",
              "    </tr>\n",
              "    <tr>\n",
              "      <th>7</th>\n",
              "      <td>45</td>\n",
              "      <td>59</td>\n",
              "    </tr>\n",
              "    <tr>\n",
              "      <th>8</th>\n",
              "      <td>24</td>\n",
              "      <td>63</td>\n",
              "    </tr>\n",
              "    <tr>\n",
              "      <th>9</th>\n",
              "      <td>55</td>\n",
              "      <td>70</td>\n",
              "    </tr>\n",
              "    <tr>\n",
              "      <th>10</th>\n",
              "      <td>51</td>\n",
              "      <td>66</td>\n",
              "    </tr>\n",
              "    <tr>\n",
              "      <th>11</th>\n",
              "      <td>61</td>\n",
              "      <td>63</td>\n",
              "    </tr>\n",
              "    <tr>\n",
              "      <th>12</th>\n",
              "      <td>53</td>\n",
              "      <td>58</td>\n",
              "    </tr>\n",
              "    <tr>\n",
              "      <th>13</th>\n",
              "      <td>69</td>\n",
              "      <td>23</td>\n",
              "    </tr>\n",
              "    <tr>\n",
              "      <th>14</th>\n",
              "      <td>72</td>\n",
              "      <td>14</td>\n",
              "    </tr>\n",
              "    <tr>\n",
              "      <th>15</th>\n",
              "      <td>64</td>\n",
              "      <td>8</td>\n",
              "    </tr>\n",
              "    <tr>\n",
              "      <th>16</th>\n",
              "      <td>49</td>\n",
              "      <td>19</td>\n",
              "    </tr>\n",
              "    <tr>\n",
              "      <th>17</th>\n",
              "      <td>58</td>\n",
              "      <td>7</td>\n",
              "    </tr>\n",
              "  </tbody>\n",
              "</table>\n",
              "</div>"
            ],
            "text/plain": [
              "     x   y\n",
              "0   12  36\n",
              "1   24  39\n",
              "2   28  30\n",
              "3   33  52\n",
              "4   18  54\n",
              "5   29  46\n",
              "6   52  55\n",
              "7   45  59\n",
              "8   24  63\n",
              "9   55  70\n",
              "10  51  66\n",
              "11  61  63\n",
              "12  53  58\n",
              "13  69  23\n",
              "14  72  14\n",
              "15  64   8\n",
              "16  49  19\n",
              "17  58   7"
            ]
          },
          "metadata": {
            "tags": []
          },
          "execution_count": 134
        }
      ]
    },
    {
      "cell_type": "code",
      "metadata": {
        "id": "_LVUYeZdMTm7",
        "colab_type": "code",
        "colab": {}
      },
      "source": [
        "#Knee rule or Elbow rule\n",
        "loss = []\n",
        "for i in range(1,10):\n",
        "  km = KMeans(n_clusters=i)\n",
        "  km.fit(ds)\n",
        "  loss.append(km.inertia_)"
      ],
      "execution_count": 0,
      "outputs": []
    },
    {
      "cell_type": "code",
      "metadata": {
        "id": "0RWU_s_8NoKh",
        "colab_type": "code",
        "outputId": "c982fb28-7694-4e78-ded3-6ebf8b5cdec4",
        "colab": {
          "base_uri": "https://localhost:8080/",
          "height": 265
        }
      },
      "source": [
        "plt.plot(np.arange(1,10),loss)\n",
        "plt.show()"
      ],
      "execution_count": 0,
      "outputs": [
        {
          "output_type": "display_data",
          "data": {
            "image/png": "[encoded data removed]",
            "text/plain": [
              "<Figure size 432x288 with 1 Axes>"
            ]
          },
          "metadata": {
            "tags": [],
            "needs_background": "light"
          }
        }
      ]
    },
    {
      "cell_type": "code",
      "metadata": {
        "id": "jiCkR463OAkE",
        "colab_type": "code",
        "outputId": "27cf1da9-ec9f-4388-b79c-1e0f80c0704d",
        "colab": {
          "base_uri": "https://localhost:8080/",
          "height": 183
        }
      },
      "source": [
        "loss"
      ],
      "execution_count": 0,
      "outputs": [
        {
          "output_type": "execute_result",
          "data": {
            "text/plain": [
              "[13193.61111111111,\n",
              " 5440.461538461538,\n",
              " 1915.0952380952383,\n",
              " 1275.0833333333333,\n",
              " 994.7499999999999,\n",
              " 804.4999999999999,\n",
              " 620.3333333333333,\n",
              " 450.6666666666667,\n",
              " 318.5]"
            ]
          },
          "metadata": {
            "tags": []
          },
          "execution_count": 139
        }
      ]
    },
    {
      "cell_type": "code",
      "metadata": {
        "id": "hu1mSj0TO4WU",
        "colab_type": "code",
        "colab": {}
      },
      "source": [
        "#Earning\n",
        "#Spending\n",
        "#form clusters of customers\n",
        "#High Earning,Less Spending   ;    Less Earning, High Spending;      HE,HS;     LE,LS     ME,ME"
      ],
      "execution_count": 0,
      "outputs": []
    }
  ]
}