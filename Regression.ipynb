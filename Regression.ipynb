{
  "nbformat": 4,
  "nbformat_minor": 0,
  "metadata": {
    "colab": {
      "name": "Untitled20.ipynb",
      "provenance": []
    },
    "kernelspec": {
      "name": "python3",
      "display_name": "Python 3"
    }
  },
  "cells": [
    {
      "cell_type": "code",
      "metadata": {
        "id": "zMjk8_Z1bjzf",
        "colab_type": "code",
        "outputId": "b835f42d-cc4c-4da9-82af-89ed8e71aeac",
        "colab": {
          "base_uri": "https://localhost:8080/",
          "height": 265
        }
      },
      "source": [
        "#x - features\n",
        "#y - labels\n",
        "import numpy as np\n",
        "import matplotlib.pyplot as plt\n",
        "X = np.array([2.3,5.4,6.5,7.8,9.3])\n",
        "Y = np.array([3.2,4.3,5.4,6.3,7.2])\n",
        "plt.scatter(X,Y)\n",
        "plt.show()"
      ],
      "execution_count": 0,
      "outputs": [
        {
          "output_type": "display_data",
          "data": {
            "image/png": "[encoded data removed]",
            "text/plain": [
              "<Figure size 432x288 with 1 Axes>"
            ]
          },
          "metadata": {
            "tags": [],
            "needs_background": "light"
          }
        }
      ]
    },
    {
      "cell_type": "code",
      "metadata": {
        "id": "uPbzvUhodueN",
        "colab_type": "code",
        "colab": {}
      },
      "source": [
        "x_mean = X.mean()\n",
        "y_mean = Y.mean()"
      ],
      "execution_count": 0,
      "outputs": []
    },
    {
      "cell_type": "code",
      "metadata": {
        "id": "56TlQQw5ekio",
        "colab_type": "code",
        "outputId": "27a672fd-6fc8-4497-b518-e7fe192e4607",
        "colab": {
          "base_uri": "https://localhost:8080/",
          "height": 54
        }
      },
      "source": [
        "num = 0\n",
        "den = 0\n",
        "for i in range(len(X)):\n",
        "  num += (X[i]-x_mean)*(Y[i]-y_mean)\n",
        "  den += (X[i]-x_mean)**2\n",
        "m = num/den\n",
        "print(m)\n",
        "c = y_mean - m*x_mean\n",
        "print(c)"
      ],
      "execution_count": 0,
      "outputs": [
        {
          "output_type": "stream",
          "text": [
            "0.5879253880108215\n",
            "1.599587071052257\n"
          ],
          "name": "stdout"
        }
      ]
    },
    {
      "cell_type": "code",
      "metadata": {
        "id": "Omx_2qJ9epU7",
        "colab_type": "code",
        "colab": {}
      },
      "source": [
        "#X,Y\n",
        "#m,c\n",
        "a = np.arange(2,10)\n",
        "b = m*a + c"
      ],
      "execution_count": 0,
      "outputs": []
    },
    {
      "cell_type": "code",
      "metadata": {
        "id": "HfMvUInBfuCN",
        "colab_type": "code",
        "outputId": "3130e5c7-54ac-4c8b-f938-1b10054a4816",
        "colab": {
          "base_uri": "https://localhost:8080/",
          "height": 265
        }
      },
      "source": [
        "plt.scatter(X,Y)\n",
        "plt.plot(a,b,color='r')\n",
        "plt.show()"
      ],
      "execution_count": 0,
      "outputs": [
        {
          "output_type": "display_data",
          "data": {
            "image/png": "[encoded data removed]",
            "text/plain": [
              "<Figure size 432x288 with 1 Axes>"
            ]
          },
          "metadata": {
            "tags": [],
            "needs_background": "light"
          }
        }
      ]
    },
    {
      "cell_type": "code",
      "metadata": {
        "id": "UEQ_ISSBf2cb",
        "colab_type": "code",
        "colab": {}
      },
      "source": [
        "from sklearn.linear_model import LinearRegression\n",
        "lmodel=LinearRegression()"
      ],
      "execution_count": 0,
      "outputs": []
    },
    {
      "cell_type": "code",
      "metadata": {
        "id": "nXBiYcbggljl",
        "colab_type": "code",
        "colab": {}
      },
      "source": [
        "X=X.reshape(-1,1)\n",
        "Y=Y.reshape(-1,1)"
      ],
      "execution_count": 0,
      "outputs": []
    },
    {
      "cell_type": "code",
      "metadata": {
        "id": "dqB3FvAPgfvg",
        "colab_type": "code",
        "outputId": "1e3b23c2-2d25-4d63-a0c2-0496edccf66b",
        "colab": {
          "base_uri": "https://localhost:8080/",
          "height": 36
        }
      },
      "source": [
        "lmodel.fit(X,Y)"
      ],
      "execution_count": 0,
      "outputs": [
        {
          "output_type": "execute_result",
          "data": {
            "text/plain": [
              "LinearRegression(copy_X=True, fit_intercept=True, n_jobs=None, normalize=False)"
            ]
          },
          "metadata": {
            "tags": []
          },
          "execution_count": 12
        }
      ]
    },
    {
      "cell_type": "code",
      "metadata": {
        "id": "YFaHQSE9gh4X",
        "colab_type": "code",
        "outputId": "b6778edb-b721-4f41-eefd-b27d01c54989",
        "colab": {
          "base_uri": "https://localhost:8080/",
          "height": 54
        }
      },
      "source": [
        "print(lmodel.coef_)\n",
        "print(lmodel.intercept_)"
      ],
      "execution_count": 0,
      "outputs": [
        {
          "output_type": "stream",
          "text": [
            "[[0.58792539]]\n",
            "[1.59958707]\n"
          ],
          "name": "stdout"
        }
      ]
    },
    {
      "cell_type": "code",
      "metadata": {
        "id": "w1VixbEHgzV9",
        "colab_type": "code",
        "colab": {}
      },
      "source": [
        ""
      ],
      "execution_count": 0,
      "outputs": []
    }
  ]
}